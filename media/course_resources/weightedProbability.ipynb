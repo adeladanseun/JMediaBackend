{
 "cells": [
  {
   "cell_type": "markdown",
   "id": "26999f0d-d1c4-4cac-8541-a2f2d4216f80",
   "metadata": {},
   "source": [
    "#  Practice Codes For Probability"
   ]
  },
  {
   "cell_type": "code",
   "execution_count": 2,
   "id": "90ee7a6e-b5e9-4d6b-a268-dfcc327d29a0",
   "metadata": {},
   "outputs": [],
   "source": [
    "import numpy as np\n",
    "import random"
   ]
  },
  {
   "cell_type": "code",
   "execution_count": 24,
   "id": "ea2559f3-8ee3-4293-b555-a877b78b8d64",
   "metadata": {},
   "outputs": [],
   "source": [
    "def weighted_choice(objects, weights):\n",
    "    weights = np.array(weights, dtype=np.float64)\n",
    "    sum_of_weights = weights.sum()\n",
    "    #print('initial weight value', weights)\n",
    "    #print('sum_of_weights ', sum_of_weights)\n",
    "    np.multiply(weights, 1/sum_of_weights, weights)\n",
    "    #print('weights after multiply function ', weights)\n",
    "    weights = weights.cumsum()\n",
    "    #print('weights with cumsum function added to it', weights)\n",
    "    x = random.random()\n",
    "    for i in range(len(weights)):\n",
    "        if x < weights[i]:\n",
    "            return objects[i]"
   ]
  },
  {
   "cell_type": "code",
   "execution_count": 44,
   "id": "d101f4f4-a599-4f25-9df5-15c82e655517",
   "metadata": {},
   "outputs": [],
   "source": [
    "cities = ['Frankfurt', 'Stuttgart', 'Freiburg', 'Munchen', 'Zurich', 'Hamburg']\n",
    "\n",
    "populations = [736000, 628000, 228000, 1450000, 409241, 1841179]\n",
    "\n",
    "professions = ['scientist', 'philosopher', 'engineer', 'priest', 'programmer']\n",
    "\n",
    "probabilities = [0.2, 0.05, 0.3, 0.15, 0.3]\n",
    "\n",
    "programming_languages = ['Java', 'C', 'Python', 'C++']\n",
    "\n",
    "countries = ['Germany', 'Switzerland', 'Austria', 'Netherlands', 'Belgium', 'Poland', 'France', 'Ireland']\n"
   ]
  },
  {
   "cell_type": "code",
   "execution_count": 45,
   "id": "80cd9239-de12-4f1b-837b-1a57fae05be2",
   "metadata": {},
   "outputs": [],
   "source": [
    "def weighted_sample(population, weights, k):\n",
    "    sample = set()\n",
    "    population = list(population)\n",
    "    weights = list(weights)\n",
    "    while len(sample) < k:\n",
    "        choice = weighted_choice(population, weights)\n",
    "        sample.add(choice)\n",
    "        index = population.index(choice)\n",
    "        weights.pop(index)\n",
    "        population.remove(choice)\n",
    "        weights = np.array(weights) / sum(weights)\n",
    "    return list(sample)"
   ]
  },
  {
   "cell_type": "code",
   "execution_count": null,
   "id": "e9e65ed5-bb6e-4bde-acf5-6fbe22b76a29",
   "metadata": {},
   "outputs": [],
   "source": [
    "weights = np.array([83019200, 8555541, 8869537, 17338900, 11480534, 38413000, 67022000, 4857000], dtype=np.float64)\n",
    "weights /= sum(weights)\n",
    "\n",
    "for i in range(4):\n",
    "    print(np.random.choice(countries, p=weights, size=(3,), replace=True))"
   ]
  },
  {
   "cell_type": "code",
   "execution_count": 49,
   "id": "bd6d3d34-7f0b-4415-a11c-8695061e15f0",
   "metadata": {},
   "outputs": [
    {
     "data": {
      "text/plain": [
       "['The', 'grey', 'light', 'dreams']"
      ]
     },
     "execution_count": 49,
     "metadata": {},
     "output_type": "execute_result"
    }
   ],
   "source": [
    "def cartesian_choice(*iterables):\n",
    "    res = []\n",
    "    for population in iterables:\n",
    "        res.append(np.random.choice(population))\n",
    "    return res\n",
    "\n",
    "cartesian_choice(['The', 'A'], \n",
    "                ['red', 'green', 'blue', 'yellow','grey'],\n",
    "                ['car', 'house', 'fish', 'light'],\n",
    "                ['smells', 'dreams', 'blinks', 'shines'])"
   ]
  },
  {
   "cell_type": "code",
   "execution_count": 52,
   "id": "f205fd89-9f86-4f99-add5-a56f101ae524",
   "metadata": {},
   "outputs": [],
   "source": [
    "def weighted_cartesian_coordinate(*iterable):\n",
    "    res = []\n",
    "    for population, weight in iterable:\n",
    "        weight = np.array(weight, dtype=np.float64) / sum(weight)\n",
    "        res.append(np.random.choice(population, p=weight))\n",
    "    return res"
   ]
  },
  {
   "cell_type": "code",
   "execution_count": 57,
   "id": "db9c33b7-484f-4218-8548-a6a217257a41",
   "metadata": {},
   "outputs": [
    {
     "data": {
      "text/plain": [
       "'The green light of happiness dreams'"
      ]
     },
     "execution_count": 57,
     "metadata": {},
     "output_type": "execute_result"
    }
   ],
   "source": [
    "determiners = (['The', 'A', 'Each', 'Every', 'No'], [0.3, 0.3, 0.1, 0.1, 0.2])\n",
    "colours = (['red', 'green', 'blue', 'yellow', 'grey'], [0.1, 0.3, 0.3, 0.2, 0.2])\n",
    "nouns = (['water', 'elephant', 'fish', 'light', 'programming language'], [0.3, 0.2, 0.1, 0.1, 0.3])\n",
    "nouns2 = (['of happiness', 'of chocolate', 'of wisdom', 'of challenges', 'of air'], [0.5, 0.2, 0.1, 0.1, 0.1])\n",
    "verb_phrases = (['smells', 'dreams', 'thinks', 'is made of'], [0.4, 0.3, 0.2,0.1])\n",
    "\n",
    "' '.join(weighted_cartesian_coordinate(determiners, colours, nouns, nouns2, verb_phrases))"
   ]
  },
  {
   "cell_type": "code",
   "execution_count": null,
   "id": "7c99e43e-c01c-4aba-a3e4-ebb149b4f53d",
   "metadata": {},
   "outputs": [],
   "source": []
  }
 ],
 "metadata": {
  "kernelspec": {
   "display_name": "Python 3 (ipykernel)",
   "language": "python",
   "name": "python3"
  },
  "language_info": {
   "codemirror_mode": {
    "name": "ipython",
    "version": 3
   },
   "file_extension": ".py",
   "mimetype": "text/x-python",
   "name": "python",
   "nbconvert_exporter": "python",
   "pygments_lexer": "ipython3",
   "version": "3.11.2"
  }
 },
 "nbformat": 4,
 "nbformat_minor": 5
}
